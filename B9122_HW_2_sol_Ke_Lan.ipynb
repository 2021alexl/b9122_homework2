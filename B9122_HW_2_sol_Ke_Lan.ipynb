{
 "cells": [
  {
   "cell_type": "code",
   "execution_count": 1,
   "metadata": {},
   "outputs": [],
   "source": [
    "import pandas as pd\n",
    "import urllib.request\n",
    "import requests\n",
    "from bs4 import BeautifulSoup"
   ]
  },
  {
   "cell_type": "code",
   "execution_count": 2,
   "metadata": {},
   "outputs": [],
   "source": [
    "url = \"https://press.un.org/en\""
   ]
  },
  {
   "cell_type": "code",
   "execution_count": 3,
   "metadata": {},
   "outputs": [],
   "source": [
    "def is_press_release(soup):\n",
    "    press_release_tag = soup.find('a', {'href': '/en/press-release', 'hreflang': 'en'})\n",
    "    if press_release_tag:\n",
    "        return True\n",
    "    else:\n",
    "        return False"
   ]
  },
  {
   "cell_type": "code",
   "execution_count": 19,
   "metadata": {},
   "outputs": [],
   "source": [
    "def is_plenary_session(soup):\n",
    "    tag = soup.find('span', class_=\"ep_name\", string=\"Plenary session\")\n",
    "    if tag:\n",
    "        return True\n",
    "    else:\n",
    "        return False\n"
   ]
  },
  {
   "cell_type": "code",
   "execution_count": 4,
   "metadata": {},
   "outputs": [],
   "source": [
    "def contains_crisis(soup):\n",
    "    if 'crisis' in soup.get_text().lower():\n",
    "        return True\n",
    "    else:\n",
    "        return False"
   ]
  },
  {
   "cell_type": "code",
   "execution_count": 5,
   "metadata": {},
   "outputs": [],
   "source": [
    "def add_link(link, visited, q):\n",
    "    link_url = link['href']\n",
    "    if link_url.startswith('/'):\n",
    "        if q == 'Q1':\n",
    "            link_url = 'https://press.un.org' + link_url\n",
    "        elif q == 'Q2':\n",
    "            link_url = 'https://www.europarl.europa.eu' + link_url\n",
    "    if not link_url.startswith('#') and link_url not in visited:\n",
    "        return link_url\n",
    "    return None"
   ]
  },
  {
   "cell_type": "code",
   "execution_count": 10,
   "metadata": {},
   "outputs": [],
   "source": [
    "import requests\n",
    "from bs4 import BeautifulSoup\n",
    "\n",
    "def find_press_release(url, visited, q):\n",
    "    try:\n",
    "        response = requests.get(url)\n",
    "        soup = BeautifulSoup(response.content, 'html.parser')\n",
    "    except requests.RequestException:\n",
    "        return None, None, []\n",
    "\n",
    "    press_release = None\n",
    "    if q == 'Q1' and is_press_release(soup) and contains_crisis(soup):\n",
    "        press_release = url\n",
    "    elif q == 'Q2' and is_plenary_session(soup) and contains_crisis(soup):\n",
    "        press_release = url\n",
    "\n",
    "    links = []\n",
    "    for link in soup.find_all('a', href=True):\n",
    "        new_link = add_link(link, visited, q)\n",
    "        if new_link:\n",
    "            links.append(new_link)\n",
    "\n",
    "    source_code = str(soup)  \n",
    "    return press_release, source_code, links  "
   ]
  },
  {
   "cell_type": "code",
   "execution_count": 11,
   "metadata": {},
   "outputs": [],
   "source": [
    "def get_press_releases(seed_url, q, print = False):\n",
    "    visited = set()\n",
    "    to_visit = [seed_url]\n",
    "    press_releases = []\n",
    "    source_codes = [] \n",
    "    max_ = 800\n",
    "    now = 0\n",
    "    while to_visit and len(press_releases) < 10 and now < max_:\n",
    "        url = to_visit.pop(0)\n",
    "        if url in visited:\n",
    "            continue\n",
    "        visited.add(url)\n",
    "        if print == True:\n",
    "            print(url)\n",
    "\n",
    "        press_release, source_code, links = find_press_release(url, visited, q)  \n",
    "        if press_release:\n",
    "            press_releases.append(press_release)\n",
    "            source_codes.append(source_code)  \n",
    "        to_visit.extend(links)\n",
    "        now += 1\n",
    "\n",
    "    return press_releases, source_codes  "
   ]
  },
  {
   "cell_type": "markdown",
   "metadata": {},
   "source": [
    "# Q1"
   ]
  },
  {
   "cell_type": "code",
   "execution_count": 12,
   "metadata": {},
   "outputs": [
    {
     "name": "stderr",
     "output_type": "stream",
     "text": [
      "/Users/alex/.pyenv/versions/my-project/lib/python3.9/site-packages/bs4/builder/__init__.py:545: XMLParsedAsHTMLWarning: It looks like you're parsing an XML document using an HTML parser. If this really is an HTML document (maybe it's XHTML?), you can ignore or filter this warning. If it's XML, you should know that using an XML parser will be more reliable. To parse this document as XML, make sure you have the lxml package installed, and pass the keyword argument `features=\"xml\"` into the BeautifulSoup constructor.\n",
      "  warnings.warn(\n"
     ]
    }
   ],
   "source": [
    "urls_1, sc1 = get_press_releases('https://press.un.org/en' , 'Q1')"
   ]
  },
  {
   "cell_type": "code",
   "execution_count": 13,
   "metadata": {},
   "outputs": [
    {
     "name": "stdout",
     "output_type": "stream",
     "text": [
      "https://press.un.org/en/2023/sgsm21982.doc.htm\n",
      "https://press.un.org/en/2023/sgsm21980.doc.htm\n",
      "https://press.un.org/en/2023/sgsm21978.doc.htm\n",
      "https://press.un.org/en/2023/sgsm21947.doc.htm\n",
      "https://press.un.org/en/2023/dsgsm1874.doc.htm\n",
      "https://press.un.org/en/2023/sgsm21952.doc.htm\n",
      "https://press.un.org/en/2023/sgsm21876.doc.htm\n",
      "https://press.un.org/en/2023/sgsm21852.doc.htm\n",
      "https://press.un.org/en/2023/sgsm21806.doc.htm\n",
      "https://press.un.org/en/2023/dsgsm1848.doc.htm\n"
     ]
    }
   ],
   "source": [
    "strs = []\n",
    "for u in urls_1:\n",
    "    print(u)\n",
    "    strs += [u]\n"
   ]
  },
  {
   "cell_type": "markdown",
   "metadata": {},
   "source": [
    "# Q2"
   ]
  },
  {
   "cell_type": "code",
   "execution_count": 33,
   "metadata": {},
   "outputs": [],
   "source": [
    "urls_2 = get_press_releases('https://www.europarl.europa.eu/news/en/press-room', 'Q2')"
   ]
  },
  {
   "cell_type": "code",
   "execution_count": 40,
   "metadata": {},
   "outputs": [
    {
     "name": "stdout",
     "output_type": "stream",
     "text": [
      "https://www.europarl.europa.eu/news/en/press-room/20230929IPR06132/nagorno-karabakh-meps-demand-review-of-eu-relations-with-azerbaijan\n"
     ]
    }
   ],
   "source": [
    "for u in urls_2:\n",
    "    print(u)"
   ]
  },
  {
   "cell_type": "markdown",
   "metadata": {},
   "source": [
    "# Q2 After ED "
   ]
  },
  {
   "cell_type": "code",
   "execution_count": 14,
   "metadata": {},
   "outputs": [],
   "source": [
    "url = 'https://www.europarl.europa.eu/news/en/press-room/page/0'"
   ]
  },
  {
   "cell_type": "code",
   "execution_count": 15,
   "metadata": {},
   "outputs": [],
   "source": [
    "response = requests.get(url)\n",
    "soup = BeautifulSoup(response.content, 'html.parser')"
   ]
  },
  {
   "cell_type": "code",
   "execution_count": 20,
   "metadata": {},
   "outputs": [
    {
     "name": "stdout",
     "output_type": "stream",
     "text": [
      "https://www.europarl.europa.eu/news/en/press-room/20230929IPR06132/nagorno-karabakh-meps-demand-review-of-eu-relations-with-azerbaijan\n",
      "https://www.europarl.europa.eu/news/en/press-room/20230929IPR06130/parliament-argues-for-a-top-up-to-multi-annual-budget-for-crisis-response\n",
      "https://www.europarl.europa.eu/news/en/press-room/20230911IPR04923/reduce-demand-and-protect-people-in-prostitution-say-meps\n",
      "https://www.europarl.europa.eu/news/en/press-room/20230911IPR04918/svietlana-tsikhanouskaya-to-meps-support-belarusians-european-aspirations\n",
      "https://www.europarl.europa.eu/news/en/press-room/20230911IPR04908/meps-vote-to-strengthen-eu-defence-industry-through-common-procurement\n",
      "https://www.europarl.europa.eu/news/en/press-room/20230707IPR02427/covid-19-parliament-adopts-roadmap-to-better-prepare-for-future-health-crises\n",
      "https://www.europarl.europa.eu/news/en/press-room/20230707IPR02421/parliament-adopts-new-rules-to-boost-energy-savings\n",
      "https://www.europarl.europa.eu/news/en/press-room/20230707IPR02418/semiconductors-meps-adopt-legislation-to-boost-eu-chips-industry\n",
      "https://www.europarl.europa.eu/news/en/press-room/20230706IPR02317/ep-today\n",
      "https://www.europarl.europa.eu/news/en/press-room/20230706IPR02316/ep-today\n"
     ]
    }
   ],
   "source": [
    "\n",
    "viable_link = []\n",
    "sc2 = []  \n",
    "for i in range(10):\n",
    "    url = 'https://www.europarl.europa.eu/news/en/press-room/page/'\n",
    "    url += str(i)\n",
    "    response = requests.get(url)\n",
    "    soup = BeautifulSoup(response.content, 'html.parser')\n",
    "    if len(viable_link) == 10:\n",
    "        break\n",
    "    for item in soup.find_all('a', href=True):\n",
    "        if 'https://www.europarl.europa.eu/news/en/press-room/20' in item['href']:\n",
    "            url = item['href']\n",
    "            response = requests.get(url)\n",
    "            soup = BeautifulSoup(response.content, 'html.parser')\n",
    "            if is_plenary_session(soup) and contains_crisis(soup):\n",
    "                print(url)\n",
    "                viable_link.append(url)\n",
    "                sc2.append(str(soup))"
   ]
  },
  {
   "cell_type": "code",
   "execution_count": 17,
   "metadata": {},
   "outputs": [],
   "source": [
    "for i in range(1,11):\n",
    "    txts = '1_'\n",
    "    txts += str(i)\n",
    "    txts += '.txt'\n",
    "    with open(txts, \"w\") as file:\n",
    "        file.write(sc1[i-1])\n"
   ]
  },
  {
   "cell_type": "code",
   "execution_count": 21,
   "metadata": {},
   "outputs": [],
   "source": [
    "for i in range(1,11):\n",
    "    txts = '2_'\n",
    "    txts += str(i)\n",
    "    txts += '.txt'\n",
    "    with open(txts, \"w\") as file:\n",
    "        file.write(sc2[i-1])\n",
    "        \n"
   ]
  }
 ],
 "metadata": {
  "kernelspec": {
   "display_name": "Python 3 (ipykernel)",
   "language": "python",
   "name": "python3"
  },
  "language_info": {
   "codemirror_mode": {
    "name": "ipython",
    "version": 3
   },
   "file_extension": ".py",
   "mimetype": "text/x-python",
   "name": "python",
   "nbconvert_exporter": "python",
   "pygments_lexer": "ipython3",
   "version": "3.9.12"
  }
 },
 "nbformat": 4,
 "nbformat_minor": 2
}
